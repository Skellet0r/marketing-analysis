{
 "cells": [
  {
   "cell_type": "markdown",
   "metadata": {},
   "source": [
    "# Data Extraction"
   ]
  },
  {
   "cell_type": "markdown",
   "metadata": {},
   "source": [
    "Our client has decided to give us some prior transaction data to work with on this project. The data can be found be going to the following URL: https://archive.ics.uci.edu/ml/datasets/Online+Retail+II."
   ]
  },
  {
   "cell_type": "markdown",
   "metadata": {},
   "source": [
    "The dataset is provided in xlsx format and is ~45MB in size. To limit the network bandwidth required on the initial clone of this repository, the `project` helper command was created. After cloning this repository, one can extract the data, and compile it into a csv file (for easier/faster loading) by running the command `project init` from the project root in a terminal."
   ]
  },
  {
   "cell_type": "markdown",
   "metadata": {},
   "source": [
    "# Data Cleaning"
   ]
  },
  {
   "cell_type": "markdown",
   "metadata": {},
   "source": [
    "Now that we've got our data extracted we'll load it up and start the cleaning process. This is very important as it will heavily effect our modeling if we have major inconsistencies in our dataset. I don't expect their to be many errors, or missing values since this is transaction data (hopefully with no input by humans)."
   ]
  },
  {
   "cell_type": "markdown",
   "metadata": {},
   "source": [
    "Below is the **attribute information** provided to us by our client, for reference.\n",
    "\n",
    "- InvoiceNo: Invoice number. Nominal. A 6-digit integral number uniquely assigned to each transaction. If this code \n",
    "  starts with the letter 'c', it indicates a cancellation.\n",
    "- StockCode: Product (item) code. Nominal. A 5-digit integral number uniquely assigned to each distinct product.\n",
    "- Description: Product (item) name. Nominal.\n",
    "- Quantity: The quantities of each product (item) per transaction. Numeric.\n",
    "- InvoiceDate: Invice date and time. Numeric. The day and time when a transaction was generated.\n",
    "- UnitPrice: Unit price. Numeric. Product price per unit in sterling (Â£).\n",
    "- CustomerID: Customer number. Nominal. A 5-digit integral number uniquely assigned to each customer.\n",
    "- Country: Country name. Nominal. The name of the country where a customer resides."
   ]
  },
  {
   "cell_type": "code",
   "execution_count": 1,
   "metadata": {
    "ExecuteTime": {
     "end_time": "2020-10-13T13:40:38.561373Z",
     "start_time": "2020-10-13T13:40:38.066815Z"
    }
   },
   "outputs": [],
   "source": [
    "# import libraries\n",
    "import pandas as pd\n",
    "import numpy as np\n",
    "from scipy import stats"
   ]
  },
  {
   "cell_type": "code",
   "execution_count": 2,
   "metadata": {
    "ExecuteTime": {
     "end_time": "2020-10-13T13:40:39.515388Z",
     "start_time": "2020-10-13T13:40:38.563749Z"
    }
   },
   "outputs": [],
   "source": [
    "# load data\n",
    "df = pd.read_csv(\"../data/raw/data.csv\")"
   ]
  },
  {
   "cell_type": "code",
   "execution_count": 3,
   "metadata": {
    "ExecuteTime": {
     "end_time": "2020-10-13T13:40:39.539873Z",
     "start_time": "2020-10-13T13:40:39.518679Z"
    }
   },
   "outputs": [
    {
     "data": {
      "text/html": [
       "<div>\n",
       "<style scoped>\n",
       "    .dataframe tbody tr th:only-of-type {\n",
       "        vertical-align: middle;\n",
       "    }\n",
       "\n",
       "    .dataframe tbody tr th {\n",
       "        vertical-align: top;\n",
       "    }\n",
       "\n",
       "    .dataframe thead th {\n",
       "        text-align: right;\n",
       "    }\n",
       "</style>\n",
       "<table border=\"1\" class=\"dataframe\">\n",
       "  <thead>\n",
       "    <tr style=\"text-align: right;\">\n",
       "      <th></th>\n",
       "      <th>Invoice</th>\n",
       "      <th>StockCode</th>\n",
       "      <th>Description</th>\n",
       "      <th>Quantity</th>\n",
       "      <th>InvoiceDate</th>\n",
       "      <th>Price</th>\n",
       "      <th>Customer ID</th>\n",
       "      <th>Country</th>\n",
       "    </tr>\n",
       "  </thead>\n",
       "  <tbody>\n",
       "    <tr>\n",
       "      <th>0</th>\n",
       "      <td>489434</td>\n",
       "      <td>85048</td>\n",
       "      <td>15CM CHRISTMAS GLASS BALL 20 LIGHTS</td>\n",
       "      <td>12</td>\n",
       "      <td>12/01/09 07:45</td>\n",
       "      <td>6.95</td>\n",
       "      <td>13085.0</td>\n",
       "      <td>United Kingdom</td>\n",
       "    </tr>\n",
       "    <tr>\n",
       "      <th>1</th>\n",
       "      <td>489434</td>\n",
       "      <td>79323P</td>\n",
       "      <td>PINK CHERRY LIGHTS</td>\n",
       "      <td>12</td>\n",
       "      <td>12/01/09 07:45</td>\n",
       "      <td>6.75</td>\n",
       "      <td>13085.0</td>\n",
       "      <td>United Kingdom</td>\n",
       "    </tr>\n",
       "    <tr>\n",
       "      <th>2</th>\n",
       "      <td>489434</td>\n",
       "      <td>79323W</td>\n",
       "      <td>WHITE CHERRY LIGHTS</td>\n",
       "      <td>12</td>\n",
       "      <td>12/01/09 07:45</td>\n",
       "      <td>6.75</td>\n",
       "      <td>13085.0</td>\n",
       "      <td>United Kingdom</td>\n",
       "    </tr>\n",
       "    <tr>\n",
       "      <th>3</th>\n",
       "      <td>489434</td>\n",
       "      <td>22041</td>\n",
       "      <td>RECORD FRAME 7\" SINGLE SIZE</td>\n",
       "      <td>48</td>\n",
       "      <td>12/01/09 07:45</td>\n",
       "      <td>2.10</td>\n",
       "      <td>13085.0</td>\n",
       "      <td>United Kingdom</td>\n",
       "    </tr>\n",
       "    <tr>\n",
       "      <th>4</th>\n",
       "      <td>489434</td>\n",
       "      <td>21232</td>\n",
       "      <td>STRAWBERRY CERAMIC TRINKET BOX</td>\n",
       "      <td>24</td>\n",
       "      <td>12/01/09 07:45</td>\n",
       "      <td>1.25</td>\n",
       "      <td>13085.0</td>\n",
       "      <td>United Kingdom</td>\n",
       "    </tr>\n",
       "  </tbody>\n",
       "</table>\n",
       "</div>"
      ],
      "text/plain": [
       "  Invoice StockCode                          Description  Quantity  \\\n",
       "0  489434     85048  15CM CHRISTMAS GLASS BALL 20 LIGHTS        12   \n",
       "1  489434    79323P                   PINK CHERRY LIGHTS        12   \n",
       "2  489434    79323W                  WHITE CHERRY LIGHTS        12   \n",
       "3  489434     22041         RECORD FRAME 7\" SINGLE SIZE         48   \n",
       "4  489434     21232       STRAWBERRY CERAMIC TRINKET BOX        24   \n",
       "\n",
       "      InvoiceDate  Price  Customer ID         Country  \n",
       "0  12/01/09 07:45   6.95      13085.0  United Kingdom  \n",
       "1  12/01/09 07:45   6.75      13085.0  United Kingdom  \n",
       "2  12/01/09 07:45   6.75      13085.0  United Kingdom  \n",
       "3  12/01/09 07:45   2.10      13085.0  United Kingdom  \n",
       "4  12/01/09 07:45   1.25      13085.0  United Kingdom  "
      ]
     },
     "execution_count": 3,
     "metadata": {},
     "output_type": "execute_result"
    }
   ],
   "source": [
    "# print first 5 rows\n",
    "df.head()"
   ]
  },
  {
   "cell_type": "code",
   "execution_count": 4,
   "metadata": {
    "ExecuteTime": {
     "end_time": "2020-10-13T13:40:39.743930Z",
     "start_time": "2020-10-13T13:40:39.541438Z"
    }
   },
   "outputs": [
    {
     "name": "stdout",
     "output_type": "stream",
     "text": [
      "<class 'pandas.core.frame.DataFrame'>\n",
      "RangeIndex: 1067371 entries, 0 to 1067370\n",
      "Data columns (total 8 columns):\n",
      " #   Column       Non-Null Count    Dtype  \n",
      "---  ------       --------------    -----  \n",
      " 0   Invoice      1067371 non-null  object \n",
      " 1   StockCode    1067371 non-null  object \n",
      " 2   Description  1062989 non-null  object \n",
      " 3   Quantity     1067371 non-null  int64  \n",
      " 4   InvoiceDate  1067371 non-null  object \n",
      " 5   Price        1067371 non-null  float64\n",
      " 6   Customer ID  824364 non-null   float64\n",
      " 7   Country      1067371 non-null  object \n",
      "dtypes: float64(2), int64(1), object(5)\n",
      "memory usage: 65.1+ MB\n"
     ]
    }
   ],
   "source": [
    "# print dataframe info\n",
    "df.info()"
   ]
  },
  {
   "cell_type": "markdown",
   "metadata": {},
   "source": [
    "Looking at the info output for our dataframe, there are two data columns which have missing values. The `Description` and `Customer ID` columns."
   ]
  },
  {
   "cell_type": "markdown",
   "metadata": {},
   "source": [
    "The `Description` column has a rather low amount of missing values about 5k, we could possibly **impute those values using the stock code to match the items with their correct description**."
   ]
  },
  {
   "cell_type": "markdown",
   "metadata": {},
   "source": [
    "The `Customer ID` column has ~250k missing values, which is quite excessive. We'll definitely want to try and **impute these values, using the invoice to see which customers are attached to other products on that same invoice**."
   ]
  },
  {
   "cell_type": "markdown",
   "metadata": {},
   "source": [
    "## Missing Values"
   ]
  },
  {
   "cell_type": "markdown",
   "metadata": {},
   "source": [
    "We'll start off with our `Description` column, and try to impute the missing values using the StockCode to index the products description elsewhere."
   ]
  },
  {
   "cell_type": "markdown",
   "metadata": {},
   "source": [
    "### Description"
   ]
  },
  {
   "cell_type": "code",
   "execution_count": 5,
   "metadata": {
    "ExecuteTime": {
     "end_time": "2020-10-13T13:40:39.937665Z",
     "start_time": "2020-10-13T13:40:39.745323Z"
    }
   },
   "outputs": [
    {
     "data": {
      "text/html": [
       "<div>\n",
       "<style scoped>\n",
       "    .dataframe tbody tr th:only-of-type {\n",
       "        vertical-align: middle;\n",
       "    }\n",
       "\n",
       "    .dataframe tbody tr th {\n",
       "        vertical-align: top;\n",
       "    }\n",
       "\n",
       "    .dataframe thead th {\n",
       "        text-align: right;\n",
       "    }\n",
       "</style>\n",
       "<table border=\"1\" class=\"dataframe\">\n",
       "  <thead>\n",
       "    <tr style=\"text-align: right;\">\n",
       "      <th></th>\n",
       "      <th>Description</th>\n",
       "    </tr>\n",
       "    <tr>\n",
       "      <th>StockCode</th>\n",
       "      <th></th>\n",
       "    </tr>\n",
       "  </thead>\n",
       "  <tbody>\n",
       "    <tr>\n",
       "      <th>85048</th>\n",
       "      <td>15CM CHRISTMAS GLASS BALL 20 LIGHTS</td>\n",
       "    </tr>\n",
       "    <tr>\n",
       "      <th>79323P</th>\n",
       "      <td>PINK CHERRY LIGHTS</td>\n",
       "    </tr>\n",
       "    <tr>\n",
       "      <th>79323W</th>\n",
       "      <td>WHITE CHERRY LIGHTS</td>\n",
       "    </tr>\n",
       "    <tr>\n",
       "      <th>22041</th>\n",
       "      <td>RECORD FRAME 7\" SINGLE SIZE</td>\n",
       "    </tr>\n",
       "    <tr>\n",
       "      <th>21232</th>\n",
       "      <td>STRAWBERRY CERAMIC TRINKET BOX</td>\n",
       "    </tr>\n",
       "  </tbody>\n",
       "</table>\n",
       "</div>"
      ],
      "text/plain": [
       "                                   Description\n",
       "StockCode                                     \n",
       "85048      15CM CHRISTMAS GLASS BALL 20 LIGHTS\n",
       "79323P                      PINK CHERRY LIGHTS\n",
       "79323W                     WHITE CHERRY LIGHTS\n",
       "22041             RECORD FRAME 7\" SINGLE SIZE \n",
       "21232           STRAWBERRY CERAMIC TRINKET BOX"
      ]
     },
     "execution_count": 5,
     "metadata": {},
     "output_type": "execute_result"
    }
   ],
   "source": [
    "# make dataframe of unique stock with description\n",
    "stock_df = df.dropna(subset=[\"Description\"])  # drop rows with missing description\n",
    "stock_df = stock_df.loc[~stock_df.StockCode.duplicated(), [\"StockCode\", \"Description\"]]  # select unique stock\n",
    "stock_df = stock_df.set_index(\"StockCode\")\n",
    "stock_df.head()"
   ]
  },
  {
   "cell_type": "code",
   "execution_count": 6,
   "metadata": {
    "ExecuteTime": {
     "end_time": "2020-10-13T13:40:40.138497Z",
     "start_time": "2020-10-13T13:40:39.939037Z"
    }
   },
   "outputs": [
    {
     "data": {
      "text/html": [
       "<div>\n",
       "<style scoped>\n",
       "    .dataframe tbody tr th:only-of-type {\n",
       "        vertical-align: middle;\n",
       "    }\n",
       "\n",
       "    .dataframe tbody tr th {\n",
       "        vertical-align: top;\n",
       "    }\n",
       "\n",
       "    .dataframe thead th {\n",
       "        text-align: right;\n",
       "    }\n",
       "</style>\n",
       "<table border=\"1\" class=\"dataframe\">\n",
       "  <thead>\n",
       "    <tr style=\"text-align: right;\">\n",
       "      <th></th>\n",
       "      <th>Invoice</th>\n",
       "      <th>StockCode</th>\n",
       "      <th>Description_original</th>\n",
       "      <th>Quantity</th>\n",
       "      <th>InvoiceDate</th>\n",
       "      <th>Price</th>\n",
       "      <th>Customer ID</th>\n",
       "      <th>Country</th>\n",
       "      <th>Description</th>\n",
       "    </tr>\n",
       "  </thead>\n",
       "  <tbody>\n",
       "    <tr>\n",
       "      <th>0</th>\n",
       "      <td>489434</td>\n",
       "      <td>85048</td>\n",
       "      <td>15CM CHRISTMAS GLASS BALL 20 LIGHTS</td>\n",
       "      <td>12</td>\n",
       "      <td>12/01/09 07:45</td>\n",
       "      <td>6.95</td>\n",
       "      <td>13085.0</td>\n",
       "      <td>United Kingdom</td>\n",
       "      <td>15CM CHRISTMAS GLASS BALL 20 LIGHTS</td>\n",
       "    </tr>\n",
       "    <tr>\n",
       "      <th>1</th>\n",
       "      <td>489434</td>\n",
       "      <td>79323P</td>\n",
       "      <td>PINK CHERRY LIGHTS</td>\n",
       "      <td>12</td>\n",
       "      <td>12/01/09 07:45</td>\n",
       "      <td>6.75</td>\n",
       "      <td>13085.0</td>\n",
       "      <td>United Kingdom</td>\n",
       "      <td>PINK CHERRY LIGHTS</td>\n",
       "    </tr>\n",
       "    <tr>\n",
       "      <th>2</th>\n",
       "      <td>489434</td>\n",
       "      <td>79323W</td>\n",
       "      <td>WHITE CHERRY LIGHTS</td>\n",
       "      <td>12</td>\n",
       "      <td>12/01/09 07:45</td>\n",
       "      <td>6.75</td>\n",
       "      <td>13085.0</td>\n",
       "      <td>United Kingdom</td>\n",
       "      <td>WHITE CHERRY LIGHTS</td>\n",
       "    </tr>\n",
       "    <tr>\n",
       "      <th>3</th>\n",
       "      <td>489434</td>\n",
       "      <td>22041</td>\n",
       "      <td>RECORD FRAME 7\" SINGLE SIZE</td>\n",
       "      <td>48</td>\n",
       "      <td>12/01/09 07:45</td>\n",
       "      <td>2.10</td>\n",
       "      <td>13085.0</td>\n",
       "      <td>United Kingdom</td>\n",
       "      <td>RECORD FRAME 7\" SINGLE SIZE</td>\n",
       "    </tr>\n",
       "    <tr>\n",
       "      <th>4</th>\n",
       "      <td>489434</td>\n",
       "      <td>21232</td>\n",
       "      <td>STRAWBERRY CERAMIC TRINKET BOX</td>\n",
       "      <td>24</td>\n",
       "      <td>12/01/09 07:45</td>\n",
       "      <td>1.25</td>\n",
       "      <td>13085.0</td>\n",
       "      <td>United Kingdom</td>\n",
       "      <td>STRAWBERRY CERAMIC TRINKET BOX</td>\n",
       "    </tr>\n",
       "  </tbody>\n",
       "</table>\n",
       "</div>"
      ],
      "text/plain": [
       "  Invoice StockCode                 Description_original  Quantity  \\\n",
       "0  489434     85048  15CM CHRISTMAS GLASS BALL 20 LIGHTS        12   \n",
       "1  489434    79323P                   PINK CHERRY LIGHTS        12   \n",
       "2  489434    79323W                  WHITE CHERRY LIGHTS        12   \n",
       "3  489434     22041         RECORD FRAME 7\" SINGLE SIZE         48   \n",
       "4  489434     21232       STRAWBERRY CERAMIC TRINKET BOX        24   \n",
       "\n",
       "      InvoiceDate  Price  Customer ID         Country  \\\n",
       "0  12/01/09 07:45   6.95      13085.0  United Kingdom   \n",
       "1  12/01/09 07:45   6.75      13085.0  United Kingdom   \n",
       "2  12/01/09 07:45   6.75      13085.0  United Kingdom   \n",
       "3  12/01/09 07:45   2.10      13085.0  United Kingdom   \n",
       "4  12/01/09 07:45   1.25      13085.0  United Kingdom   \n",
       "\n",
       "                           Description  \n",
       "0  15CM CHRISTMAS GLASS BALL 20 LIGHTS  \n",
       "1                   PINK CHERRY LIGHTS  \n",
       "2                  WHITE CHERRY LIGHTS  \n",
       "3         RECORD FRAME 7\" SINGLE SIZE   \n",
       "4       STRAWBERRY CERAMIC TRINKET BOX  "
      ]
     },
     "execution_count": 6,
     "metadata": {},
     "output_type": "execute_result"
    }
   ],
   "source": [
    "# join the data\n",
    "dfxstock_df = df.join(stock_df, on=\"StockCode\", lsuffix=\"_original\")\n",
    "dfxstock_df.head()"
   ]
  },
  {
   "cell_type": "code",
   "execution_count": 7,
   "metadata": {
    "ExecuteTime": {
     "end_time": "2020-10-13T13:40:40.186379Z",
     "start_time": "2020-10-13T13:40:40.140582Z"
    }
   },
   "outputs": [
    {
     "data": {
      "text/plain": [
       "gift_0001_90    2\n",
       "84494B          2\n",
       "21502           2\n",
       "37477D          2\n",
       "84933D          2\n",
       "               ..\n",
       "16240           1\n",
       "16210           1\n",
       "35980A          1\n",
       "21029           1\n",
       "17013A          1\n",
       "Name: StockCode, Length: 355, dtype: int64"
      ]
     },
     "execution_count": 7,
     "metadata": {},
     "output_type": "execute_result"
    }
   ],
   "source": [
    "# are all of the missing values filled now?\n",
    "dfxstock_df.loc[dfxstock_df.Description.isna(), \"StockCode\"].value_counts()"
   ]
  },
  {
   "cell_type": "markdown",
   "metadata": {},
   "source": [
    "Our dataset still contains stock which has no description, about 355 unique stockcodes have no description. Since our objective for this project doesn't rely on the description we can essentially drop this column when modeling. It would prove useful however if we were doing stock analysis and wanted to predict which items to have in stock throughout a given year. Since we can't impute all of the values, we'll stay with the ones we have imputed and then **after EDA we'll drop the column since we don't need it for modeling**."
   ]
  },
  {
   "cell_type": "code",
   "execution_count": 8,
   "metadata": {
    "ExecuteTime": {
     "end_time": "2020-10-13T13:40:40.358047Z",
     "start_time": "2020-10-13T13:40:40.188281Z"
    }
   },
   "outputs": [
    {
     "data": {
      "text/html": [
       "<div>\n",
       "<style scoped>\n",
       "    .dataframe tbody tr th:only-of-type {\n",
       "        vertical-align: middle;\n",
       "    }\n",
       "\n",
       "    .dataframe tbody tr th {\n",
       "        vertical-align: top;\n",
       "    }\n",
       "\n",
       "    .dataframe thead th {\n",
       "        text-align: right;\n",
       "    }\n",
       "</style>\n",
       "<table border=\"1\" class=\"dataframe\">\n",
       "  <thead>\n",
       "    <tr style=\"text-align: right;\">\n",
       "      <th></th>\n",
       "      <th>Invoice</th>\n",
       "      <th>StockCode</th>\n",
       "      <th>Quantity</th>\n",
       "      <th>InvoiceDate</th>\n",
       "      <th>Price</th>\n",
       "      <th>Customer ID</th>\n",
       "      <th>Country</th>\n",
       "      <th>Description</th>\n",
       "    </tr>\n",
       "  </thead>\n",
       "  <tbody>\n",
       "    <tr>\n",
       "      <th>0</th>\n",
       "      <td>489434</td>\n",
       "      <td>85048</td>\n",
       "      <td>12</td>\n",
       "      <td>12/01/09 07:45</td>\n",
       "      <td>6.95</td>\n",
       "      <td>13085.0</td>\n",
       "      <td>United Kingdom</td>\n",
       "      <td>15CM CHRISTMAS GLASS BALL 20 LIGHTS</td>\n",
       "    </tr>\n",
       "    <tr>\n",
       "      <th>1</th>\n",
       "      <td>489434</td>\n",
       "      <td>79323P</td>\n",
       "      <td>12</td>\n",
       "      <td>12/01/09 07:45</td>\n",
       "      <td>6.75</td>\n",
       "      <td>13085.0</td>\n",
       "      <td>United Kingdom</td>\n",
       "      <td>PINK CHERRY LIGHTS</td>\n",
       "    </tr>\n",
       "    <tr>\n",
       "      <th>2</th>\n",
       "      <td>489434</td>\n",
       "      <td>79323W</td>\n",
       "      <td>12</td>\n",
       "      <td>12/01/09 07:45</td>\n",
       "      <td>6.75</td>\n",
       "      <td>13085.0</td>\n",
       "      <td>United Kingdom</td>\n",
       "      <td>WHITE CHERRY LIGHTS</td>\n",
       "    </tr>\n",
       "    <tr>\n",
       "      <th>3</th>\n",
       "      <td>489434</td>\n",
       "      <td>22041</td>\n",
       "      <td>48</td>\n",
       "      <td>12/01/09 07:45</td>\n",
       "      <td>2.10</td>\n",
       "      <td>13085.0</td>\n",
       "      <td>United Kingdom</td>\n",
       "      <td>RECORD FRAME 7\" SINGLE SIZE</td>\n",
       "    </tr>\n",
       "    <tr>\n",
       "      <th>4</th>\n",
       "      <td>489434</td>\n",
       "      <td>21232</td>\n",
       "      <td>24</td>\n",
       "      <td>12/01/09 07:45</td>\n",
       "      <td>1.25</td>\n",
       "      <td>13085.0</td>\n",
       "      <td>United Kingdom</td>\n",
       "      <td>STRAWBERRY CERAMIC TRINKET BOX</td>\n",
       "    </tr>\n",
       "  </tbody>\n",
       "</table>\n",
       "</div>"
      ],
      "text/plain": [
       "  Invoice StockCode  Quantity     InvoiceDate  Price  Customer ID  \\\n",
       "0  489434     85048        12  12/01/09 07:45   6.95      13085.0   \n",
       "1  489434    79323P        12  12/01/09 07:45   6.75      13085.0   \n",
       "2  489434    79323W        12  12/01/09 07:45   6.75      13085.0   \n",
       "3  489434     22041        48  12/01/09 07:45   2.10      13085.0   \n",
       "4  489434     21232        24  12/01/09 07:45   1.25      13085.0   \n",
       "\n",
       "          Country                          Description  \n",
       "0  United Kingdom  15CM CHRISTMAS GLASS BALL 20 LIGHTS  \n",
       "1  United Kingdom                   PINK CHERRY LIGHTS  \n",
       "2  United Kingdom                  WHITE CHERRY LIGHTS  \n",
       "3  United Kingdom         RECORD FRAME 7\" SINGLE SIZE   \n",
       "4  United Kingdom       STRAWBERRY CERAMIC TRINKET BOX  "
      ]
     },
     "execution_count": 8,
     "metadata": {},
     "output_type": "execute_result"
    }
   ],
   "source": [
    "# drop the old description\n",
    "df = dfxstock_df.drop(columns=[\"Description_original\"], errors=\"ignore\")\n",
    "df.head()"
   ]
  },
  {
   "cell_type": "markdown",
   "metadata": {},
   "source": [
    "### Customer ID"
   ]
  },
  {
   "cell_type": "markdown",
   "metadata": {},
   "source": [
    "Our dataset has about 250k missing Customer ID's, we'll do a similar process as when trying to impute product descriptions."
   ]
  },
  {
   "cell_type": "code",
   "execution_count": 9,
   "metadata": {
    "ExecuteTime": {
     "end_time": "2020-10-13T13:40:40.537458Z",
     "start_time": "2020-10-13T13:40:40.359332Z"
    }
   },
   "outputs": [
    {
     "data": {
      "text/html": [
       "<div>\n",
       "<style scoped>\n",
       "    .dataframe tbody tr th:only-of-type {\n",
       "        vertical-align: middle;\n",
       "    }\n",
       "\n",
       "    .dataframe tbody tr th {\n",
       "        vertical-align: top;\n",
       "    }\n",
       "\n",
       "    .dataframe thead th {\n",
       "        text-align: right;\n",
       "    }\n",
       "</style>\n",
       "<table border=\"1\" class=\"dataframe\">\n",
       "  <thead>\n",
       "    <tr style=\"text-align: right;\">\n",
       "      <th></th>\n",
       "      <th>Customer ID</th>\n",
       "    </tr>\n",
       "    <tr>\n",
       "      <th>Invoice</th>\n",
       "      <th></th>\n",
       "    </tr>\n",
       "  </thead>\n",
       "  <tbody>\n",
       "    <tr>\n",
       "      <th>489434</th>\n",
       "      <td>13085.0</td>\n",
       "    </tr>\n",
       "    <tr>\n",
       "      <th>489435</th>\n",
       "      <td>13085.0</td>\n",
       "    </tr>\n",
       "    <tr>\n",
       "      <th>489436</th>\n",
       "      <td>13078.0</td>\n",
       "    </tr>\n",
       "    <tr>\n",
       "      <th>489437</th>\n",
       "      <td>15362.0</td>\n",
       "    </tr>\n",
       "    <tr>\n",
       "      <th>489438</th>\n",
       "      <td>18102.0</td>\n",
       "    </tr>\n",
       "  </tbody>\n",
       "</table>\n",
       "</div>"
      ],
      "text/plain": [
       "         Customer ID\n",
       "Invoice             \n",
       "489434       13085.0\n",
       "489435       13085.0\n",
       "489436       13078.0\n",
       "489437       15362.0\n",
       "489438       18102.0"
      ]
     },
     "execution_count": 9,
     "metadata": {},
     "output_type": "execute_result"
    }
   ],
   "source": [
    "# unique invoice - Customer ID dataframe\n",
    "invoice_df = df.dropna(subset=[\"Customer ID\"])\n",
    "invoice_df = invoice_df.drop_duplicates(subset=[\"Invoice\", \"Customer ID\"])[[\"Invoice\", \"Customer ID\"]]\n",
    "invoice_df = invoice_df.set_index(\"Invoice\")\n",
    "invoice_df.head()"
   ]
  },
  {
   "cell_type": "code",
   "execution_count": 10,
   "metadata": {
    "ExecuteTime": {
     "end_time": "2020-10-13T13:40:40.547613Z",
     "start_time": "2020-10-13T13:40:40.538913Z"
    }
   },
   "outputs": [
    {
     "data": {
      "text/plain": [
       "0"
      ]
     },
     "execution_count": 10,
     "metadata": {},
     "output_type": "execute_result"
    }
   ],
   "source": [
    "# Are there any invoices with 2 Customer's\n",
    "invoice_df.index.duplicated().sum()"
   ]
  },
  {
   "cell_type": "code",
   "execution_count": 11,
   "metadata": {
    "ExecuteTime": {
     "end_time": "2020-10-13T13:40:40.726545Z",
     "start_time": "2020-10-13T13:40:40.549122Z"
    }
   },
   "outputs": [
    {
     "data": {
      "text/html": [
       "<div>\n",
       "<style scoped>\n",
       "    .dataframe tbody tr th:only-of-type {\n",
       "        vertical-align: middle;\n",
       "    }\n",
       "\n",
       "    .dataframe tbody tr th {\n",
       "        vertical-align: top;\n",
       "    }\n",
       "\n",
       "    .dataframe thead th {\n",
       "        text-align: right;\n",
       "    }\n",
       "</style>\n",
       "<table border=\"1\" class=\"dataframe\">\n",
       "  <thead>\n",
       "    <tr style=\"text-align: right;\">\n",
       "      <th></th>\n",
       "      <th>Invoice</th>\n",
       "      <th>StockCode</th>\n",
       "      <th>Quantity</th>\n",
       "      <th>InvoiceDate</th>\n",
       "      <th>Price</th>\n",
       "      <th>Customer ID_original</th>\n",
       "      <th>Country</th>\n",
       "      <th>Description</th>\n",
       "      <th>Customer ID</th>\n",
       "    </tr>\n",
       "  </thead>\n",
       "  <tbody>\n",
       "    <tr>\n",
       "      <th>0</th>\n",
       "      <td>489434</td>\n",
       "      <td>85048</td>\n",
       "      <td>12</td>\n",
       "      <td>12/01/09 07:45</td>\n",
       "      <td>6.95</td>\n",
       "      <td>13085.0</td>\n",
       "      <td>United Kingdom</td>\n",
       "      <td>15CM CHRISTMAS GLASS BALL 20 LIGHTS</td>\n",
       "      <td>13085.0</td>\n",
       "    </tr>\n",
       "    <tr>\n",
       "      <th>1</th>\n",
       "      <td>489434</td>\n",
       "      <td>79323P</td>\n",
       "      <td>12</td>\n",
       "      <td>12/01/09 07:45</td>\n",
       "      <td>6.75</td>\n",
       "      <td>13085.0</td>\n",
       "      <td>United Kingdom</td>\n",
       "      <td>PINK CHERRY LIGHTS</td>\n",
       "      <td>13085.0</td>\n",
       "    </tr>\n",
       "    <tr>\n",
       "      <th>2</th>\n",
       "      <td>489434</td>\n",
       "      <td>79323W</td>\n",
       "      <td>12</td>\n",
       "      <td>12/01/09 07:45</td>\n",
       "      <td>6.75</td>\n",
       "      <td>13085.0</td>\n",
       "      <td>United Kingdom</td>\n",
       "      <td>WHITE CHERRY LIGHTS</td>\n",
       "      <td>13085.0</td>\n",
       "    </tr>\n",
       "    <tr>\n",
       "      <th>3</th>\n",
       "      <td>489434</td>\n",
       "      <td>22041</td>\n",
       "      <td>48</td>\n",
       "      <td>12/01/09 07:45</td>\n",
       "      <td>2.10</td>\n",
       "      <td>13085.0</td>\n",
       "      <td>United Kingdom</td>\n",
       "      <td>RECORD FRAME 7\" SINGLE SIZE</td>\n",
       "      <td>13085.0</td>\n",
       "    </tr>\n",
       "    <tr>\n",
       "      <th>4</th>\n",
       "      <td>489434</td>\n",
       "      <td>21232</td>\n",
       "      <td>24</td>\n",
       "      <td>12/01/09 07:45</td>\n",
       "      <td>1.25</td>\n",
       "      <td>13085.0</td>\n",
       "      <td>United Kingdom</td>\n",
       "      <td>STRAWBERRY CERAMIC TRINKET BOX</td>\n",
       "      <td>13085.0</td>\n",
       "    </tr>\n",
       "  </tbody>\n",
       "</table>\n",
       "</div>"
      ],
      "text/plain": [
       "  Invoice StockCode  Quantity     InvoiceDate  Price  Customer ID_original  \\\n",
       "0  489434     85048        12  12/01/09 07:45   6.95               13085.0   \n",
       "1  489434    79323P        12  12/01/09 07:45   6.75               13085.0   \n",
       "2  489434    79323W        12  12/01/09 07:45   6.75               13085.0   \n",
       "3  489434     22041        48  12/01/09 07:45   2.10               13085.0   \n",
       "4  489434     21232        24  12/01/09 07:45   1.25               13085.0   \n",
       "\n",
       "          Country                          Description  Customer ID  \n",
       "0  United Kingdom  15CM CHRISTMAS GLASS BALL 20 LIGHTS      13085.0  \n",
       "1  United Kingdom                   PINK CHERRY LIGHTS      13085.0  \n",
       "2  United Kingdom                  WHITE CHERRY LIGHTS      13085.0  \n",
       "3  United Kingdom         RECORD FRAME 7\" SINGLE SIZE       13085.0  \n",
       "4  United Kingdom       STRAWBERRY CERAMIC TRINKET BOX      13085.0  "
      ]
     },
     "execution_count": 11,
     "metadata": {},
     "output_type": "execute_result"
    }
   ],
   "source": [
    "# join the data together\n",
    "dfxinvoice_df = df.join(invoice_df, on=\"Invoice\", lsuffix=\"_original\")\n",
    "dfxinvoice_df.head()"
   ]
  },
  {
   "cell_type": "code",
   "execution_count": 12,
   "metadata": {
    "ExecuteTime": {
     "end_time": "2020-10-13T13:40:40.733511Z",
     "start_time": "2020-10-13T13:40:40.727822Z"
    }
   },
   "outputs": [
    {
     "data": {
      "text/plain": [
       "243007"
      ]
     },
     "execution_count": 12,
     "metadata": {},
     "output_type": "execute_result"
    }
   ],
   "source": [
    "# do we still have missing customer ID's\n",
    "dfxinvoice_df[\"Customer ID\"].isna().sum()"
   ]
  },
  {
   "cell_type": "markdown",
   "metadata": {},
   "source": [
    "We still have the same number of missing Customer ID's we had before we tried to impute them. This means that a number of invoices have no Customer ID attached to them. Looking at our data dictionary, some invoices have a prefix of 'c' to indicate they are a cancellation. Maybe this is what is hindering our imputation."
   ]
  },
  {
   "cell_type": "code",
   "execution_count": 13,
   "metadata": {
    "ExecuteTime": {
     "end_time": "2020-10-13T13:40:40.866142Z",
     "start_time": "2020-10-13T13:40:40.734816Z"
    }
   },
   "outputs": [
    {
     "data": {
      "text/plain": [
       "0"
      ]
     },
     "execution_count": 13,
     "metadata": {},
     "output_type": "execute_result"
    }
   ],
   "source": [
    "# how many cancellation invoices with missing Customer ID\n",
    "df.loc[df[\"Customer ID\"].isna(), \"Invoice\"].str.match('c').sum()"
   ]
  },
  {
   "cell_type": "code",
   "execution_count": 14,
   "metadata": {
    "ExecuteTime": {
     "end_time": "2020-10-13T13:40:40.902814Z",
     "start_time": "2020-10-13T13:40:40.867432Z"
    }
   },
   "outputs": [
    {
     "data": {
      "text/plain": [
       "537434    1350\n",
       "538071    1304\n",
       "537638    1202\n",
       "537237    1194\n",
       "536876    1186\n",
       "          ... \n",
       "496785       1\n",
       "525339       1\n",
       "497865       1\n",
       "497118       1\n",
       "547526       1\n",
       "Name: Invoice, Length: 8752, dtype: int64"
      ]
     },
     "execution_count": 14,
     "metadata": {},
     "output_type": "execute_result"
    }
   ],
   "source": [
    "# what are the invoices with missing Customer ID's\n",
    "df.loc[df[\"Customer ID\"].isna(), \"Invoice\"].value_counts()"
   ]
  },
  {
   "cell_type": "markdown",
   "metadata": {},
   "source": [
    "From the looks of it, our rows with missing Customer ID's, those invoices do not have a Customer ID attached to them at all. For our modeling we'll want to drop these rows, as we will be grouping by Customer ID."
   ]
  },
  {
   "cell_type": "markdown",
   "metadata": {},
   "source": [
    "## Erroneous Values"
   ]
  },
  {
   "cell_type": "markdown",
   "metadata": {},
   "source": [
    "We now know what we'll be doing with our missing values, next we have to inspect the continuous values `Quantity` and `Price` to verify there aren't any erroneous values. Since this is multi-year data I expect that prices may change marginally for the same products, so our main focus will be in finding any extreme anomaly values. "
   ]
  },
  {
   "cell_type": "code",
   "execution_count": 15,
   "metadata": {
    "ExecuteTime": {
     "end_time": "2020-10-13T13:40:41.028209Z",
     "start_time": "2020-10-13T13:40:40.904099Z"
    }
   },
   "outputs": [
    {
     "data": {
      "text/html": [
       "<div>\n",
       "<style scoped>\n",
       "    .dataframe tbody tr th:only-of-type {\n",
       "        vertical-align: middle;\n",
       "    }\n",
       "\n",
       "    .dataframe tbody tr th {\n",
       "        vertical-align: top;\n",
       "    }\n",
       "\n",
       "    .dataframe thead th {\n",
       "        text-align: right;\n",
       "    }\n",
       "</style>\n",
       "<table border=\"1\" class=\"dataframe\">\n",
       "  <thead>\n",
       "    <tr style=\"text-align: right;\">\n",
       "      <th></th>\n",
       "      <th>Quantity</th>\n",
       "      <th>Price</th>\n",
       "    </tr>\n",
       "  </thead>\n",
       "  <tbody>\n",
       "    <tr>\n",
       "      <th>count</th>\n",
       "      <td>1,067,371.000</td>\n",
       "      <td>1,067,371.000</td>\n",
       "    </tr>\n",
       "    <tr>\n",
       "      <th>mean</th>\n",
       "      <td>9.939</td>\n",
       "      <td>4.649</td>\n",
       "    </tr>\n",
       "    <tr>\n",
       "      <th>std</th>\n",
       "      <td>172.706</td>\n",
       "      <td>123.553</td>\n",
       "    </tr>\n",
       "    <tr>\n",
       "      <th>min</th>\n",
       "      <td>-80,995.000</td>\n",
       "      <td>-53,594.360</td>\n",
       "    </tr>\n",
       "    <tr>\n",
       "      <th>25%</th>\n",
       "      <td>1.000</td>\n",
       "      <td>1.250</td>\n",
       "    </tr>\n",
       "    <tr>\n",
       "      <th>50%</th>\n",
       "      <td>3.000</td>\n",
       "      <td>2.100</td>\n",
       "    </tr>\n",
       "    <tr>\n",
       "      <th>75%</th>\n",
       "      <td>10.000</td>\n",
       "      <td>4.150</td>\n",
       "    </tr>\n",
       "    <tr>\n",
       "      <th>max</th>\n",
       "      <td>80,995.000</td>\n",
       "      <td>38,970.000</td>\n",
       "    </tr>\n",
       "  </tbody>\n",
       "</table>\n",
       "</div>"
      ],
      "text/plain": [
       "            Quantity          Price\n",
       "count  1,067,371.000  1,067,371.000\n",
       "mean           9.939          4.649\n",
       "std          172.706        123.553\n",
       "min      -80,995.000    -53,594.360\n",
       "25%            1.000          1.250\n",
       "50%            3.000          2.100\n",
       "75%           10.000          4.150\n",
       "max       80,995.000     38,970.000"
      ]
     },
     "execution_count": 15,
     "metadata": {},
     "output_type": "execute_result"
    }
   ],
   "source": [
    "# see that stats for Quantity and Price\n",
    "df[[\"Quantity\", \"Price\"]].describe().applymap(lambda x: f\"{x:,.3f}\")"
   ]
  },
  {
   "cell_type": "markdown",
   "metadata": {},
   "source": [
    "Instantly one can see the minimum and maximum values for both Quantity and Price seem like anomalies. We should definitely check any values which appear outside of the IQR range, and verify they are correct. Another thing is that we apparently have negative prices and quantities. This may be due to cancellations/discounts, however, this means that price and quantity can't be negative at the same time, only one or the other."
   ]
  },
  {
   "cell_type": "code",
   "execution_count": 16,
   "metadata": {
    "ExecuteTime": {
     "end_time": "2020-10-13T13:40:41.056369Z",
     "start_time": "2020-10-13T13:40:41.029612Z"
    }
   },
   "outputs": [
    {
     "data": {
      "text/html": [
       "<div>\n",
       "<style scoped>\n",
       "    .dataframe tbody tr th:only-of-type {\n",
       "        vertical-align: middle;\n",
       "    }\n",
       "\n",
       "    .dataframe tbody tr th {\n",
       "        vertical-align: top;\n",
       "    }\n",
       "\n",
       "    .dataframe thead th {\n",
       "        text-align: right;\n",
       "    }\n",
       "</style>\n",
       "<table border=\"1\" class=\"dataframe\">\n",
       "  <thead>\n",
       "    <tr style=\"text-align: right;\">\n",
       "      <th></th>\n",
       "      <th>Invoice</th>\n",
       "      <th>StockCode</th>\n",
       "      <th>Quantity</th>\n",
       "      <th>InvoiceDate</th>\n",
       "      <th>Price</th>\n",
       "      <th>Customer ID</th>\n",
       "      <th>Country</th>\n",
       "      <th>Description</th>\n",
       "    </tr>\n",
       "  </thead>\n",
       "  <tbody>\n",
       "    <tr>\n",
       "      <th>178</th>\n",
       "      <td>C489449</td>\n",
       "      <td>22087</td>\n",
       "      <td>-12</td>\n",
       "      <td>12/01/09 10:33</td>\n",
       "      <td>2.95</td>\n",
       "      <td>16321.0</td>\n",
       "      <td>Australia</td>\n",
       "      <td>PAPER BUNTING WHITE LACE</td>\n",
       "    </tr>\n",
       "    <tr>\n",
       "      <th>179</th>\n",
       "      <td>C489449</td>\n",
       "      <td>85206A</td>\n",
       "      <td>-6</td>\n",
       "      <td>12/01/09 10:33</td>\n",
       "      <td>1.65</td>\n",
       "      <td>16321.0</td>\n",
       "      <td>Australia</td>\n",
       "      <td>CREAM FELT EASTER EGG BASKET</td>\n",
       "    </tr>\n",
       "    <tr>\n",
       "      <th>180</th>\n",
       "      <td>C489449</td>\n",
       "      <td>21895</td>\n",
       "      <td>-4</td>\n",
       "      <td>12/01/09 10:33</td>\n",
       "      <td>4.25</td>\n",
       "      <td>16321.0</td>\n",
       "      <td>Australia</td>\n",
       "      <td>POTTING SHED SOW 'N' GROW SET</td>\n",
       "    </tr>\n",
       "    <tr>\n",
       "      <th>181</th>\n",
       "      <td>C489449</td>\n",
       "      <td>21896</td>\n",
       "      <td>-6</td>\n",
       "      <td>12/01/09 10:33</td>\n",
       "      <td>2.10</td>\n",
       "      <td>16321.0</td>\n",
       "      <td>Australia</td>\n",
       "      <td>POTTING SHED TWINE</td>\n",
       "    </tr>\n",
       "    <tr>\n",
       "      <th>182</th>\n",
       "      <td>C489449</td>\n",
       "      <td>22083</td>\n",
       "      <td>-12</td>\n",
       "      <td>12/01/09 10:33</td>\n",
       "      <td>2.95</td>\n",
       "      <td>16321.0</td>\n",
       "      <td>Australia</td>\n",
       "      <td>PAPER CHAIN KIT RETRO SPOT</td>\n",
       "    </tr>\n",
       "    <tr>\n",
       "      <th>...</th>\n",
       "      <td>...</td>\n",
       "      <td>...</td>\n",
       "      <td>...</td>\n",
       "      <td>...</td>\n",
       "      <td>...</td>\n",
       "      <td>...</td>\n",
       "      <td>...</td>\n",
       "      <td>...</td>\n",
       "    </tr>\n",
       "    <tr>\n",
       "      <th>1065910</th>\n",
       "      <td>C581490</td>\n",
       "      <td>23144</td>\n",
       "      <td>-11</td>\n",
       "      <td>12/09/11 09:57</td>\n",
       "      <td>0.83</td>\n",
       "      <td>14397.0</td>\n",
       "      <td>United Kingdom</td>\n",
       "      <td>ZINC T-LIGHT HOLDER STARS SMALL</td>\n",
       "    </tr>\n",
       "    <tr>\n",
       "      <th>1067002</th>\n",
       "      <td>C581499</td>\n",
       "      <td>M</td>\n",
       "      <td>-1</td>\n",
       "      <td>12/09/11 10:28</td>\n",
       "      <td>224.69</td>\n",
       "      <td>15498.0</td>\n",
       "      <td>United Kingdom</td>\n",
       "      <td>Manual</td>\n",
       "    </tr>\n",
       "    <tr>\n",
       "      <th>1067176</th>\n",
       "      <td>C581568</td>\n",
       "      <td>21258</td>\n",
       "      <td>-5</td>\n",
       "      <td>12/09/11 11:57</td>\n",
       "      <td>10.95</td>\n",
       "      <td>15311.0</td>\n",
       "      <td>United Kingdom</td>\n",
       "      <td>VICTORIAN SEWING BOX LARGE</td>\n",
       "    </tr>\n",
       "    <tr>\n",
       "      <th>1067177</th>\n",
       "      <td>C581569</td>\n",
       "      <td>84978</td>\n",
       "      <td>-1</td>\n",
       "      <td>12/09/11 11:58</td>\n",
       "      <td>1.25</td>\n",
       "      <td>17315.0</td>\n",
       "      <td>United Kingdom</td>\n",
       "      <td>HANGING HEART JAR T-LIGHT HOLDER</td>\n",
       "    </tr>\n",
       "    <tr>\n",
       "      <th>1067178</th>\n",
       "      <td>C581569</td>\n",
       "      <td>20979</td>\n",
       "      <td>-5</td>\n",
       "      <td>12/09/11 11:58</td>\n",
       "      <td>1.25</td>\n",
       "      <td>17315.0</td>\n",
       "      <td>United Kingdom</td>\n",
       "      <td>36 PENCILS TUBE RED SPOTTY</td>\n",
       "    </tr>\n",
       "  </tbody>\n",
       "</table>\n",
       "<p>22955 rows × 8 columns</p>\n",
       "</div>"
      ],
      "text/plain": [
       "         Invoice StockCode  Quantity     InvoiceDate   Price  Customer ID  \\\n",
       "178      C489449     22087       -12  12/01/09 10:33    2.95      16321.0   \n",
       "179      C489449    85206A        -6  12/01/09 10:33    1.65      16321.0   \n",
       "180      C489449     21895        -4  12/01/09 10:33    4.25      16321.0   \n",
       "181      C489449     21896        -6  12/01/09 10:33    2.10      16321.0   \n",
       "182      C489449     22083       -12  12/01/09 10:33    2.95      16321.0   \n",
       "...          ...       ...       ...             ...     ...          ...   \n",
       "1065910  C581490     23144       -11  12/09/11 09:57    0.83      14397.0   \n",
       "1067002  C581499         M        -1  12/09/11 10:28  224.69      15498.0   \n",
       "1067176  C581568     21258        -5  12/09/11 11:57   10.95      15311.0   \n",
       "1067177  C581569     84978        -1  12/09/11 11:58    1.25      17315.0   \n",
       "1067178  C581569     20979        -5  12/09/11 11:58    1.25      17315.0   \n",
       "\n",
       "                Country                       Description  \n",
       "178           Australia          PAPER BUNTING WHITE LACE  \n",
       "179           Australia      CREAM FELT EASTER EGG BASKET  \n",
       "180           Australia     POTTING SHED SOW 'N' GROW SET  \n",
       "181           Australia                POTTING SHED TWINE  \n",
       "182           Australia        PAPER CHAIN KIT RETRO SPOT  \n",
       "...                 ...                               ...  \n",
       "1065910  United Kingdom   ZINC T-LIGHT HOLDER STARS SMALL  \n",
       "1067002  United Kingdom                            Manual  \n",
       "1067176  United Kingdom        VICTORIAN SEWING BOX LARGE  \n",
       "1067177  United Kingdom  HANGING HEART JAR T-LIGHT HOLDER  \n",
       "1067178  United Kingdom        36 PENCILS TUBE RED SPOTTY  \n",
       "\n",
       "[22955 rows x 8 columns]"
      ]
     },
     "execution_count": 16,
     "metadata": {},
     "output_type": "execute_result"
    }
   ],
   "source": [
    "# Lets find any rows with a negative value in price or quantity\n",
    "price_mask = df.Price < 0\n",
    "quant_mask = df.Quantity < 0\n",
    "neg_df = df[np.logical_xor(price_mask, quant_mask)]  # xor because we want either price or quantity to be neg not both\n",
    "neg_df"
   ]
  },
  {
   "cell_type": "code",
   "execution_count": 17,
   "metadata": {
    "ExecuteTime": {
     "end_time": "2020-10-13T13:40:41.068653Z",
     "start_time": "2020-10-13T13:40:41.059078Z"
    }
   },
   "outputs": [
    {
     "data": {
      "text/plain": [
       "0"
      ]
     },
     "execution_count": 17,
     "metadata": {},
     "output_type": "execute_result"
    }
   ],
   "source": [
    "# invoices with both neg price & quantity\n",
    "(price_mask & quant_mask).sum()"
   ]
  },
  {
   "cell_type": "code",
   "execution_count": 18,
   "metadata": {
    "ExecuteTime": {
     "end_time": "2020-10-13T13:40:41.111035Z",
     "start_time": "2020-10-13T13:40:41.070372Z"
    }
   },
   "outputs": [
    {
     "data": {
      "text/html": [
       "<div>\n",
       "<style scoped>\n",
       "    .dataframe tbody tr th:only-of-type {\n",
       "        vertical-align: middle;\n",
       "    }\n",
       "\n",
       "    .dataframe tbody tr th {\n",
       "        vertical-align: top;\n",
       "    }\n",
       "\n",
       "    .dataframe thead th {\n",
       "        text-align: right;\n",
       "    }\n",
       "</style>\n",
       "<table border=\"1\" class=\"dataframe\">\n",
       "  <thead>\n",
       "    <tr style=\"text-align: right;\">\n",
       "      <th></th>\n",
       "      <th>Invoice</th>\n",
       "      <th>StockCode</th>\n",
       "      <th>Quantity</th>\n",
       "      <th>InvoiceDate</th>\n",
       "      <th>Price</th>\n",
       "      <th>Customer ID</th>\n",
       "      <th>Country</th>\n",
       "      <th>Description</th>\n",
       "    </tr>\n",
       "  </thead>\n",
       "  <tbody>\n",
       "    <tr>\n",
       "      <th>263</th>\n",
       "      <td>489464</td>\n",
       "      <td>21733</td>\n",
       "      <td>-96</td>\n",
       "      <td>12/01/09 10:52</td>\n",
       "      <td>0.0</td>\n",
       "      <td>NaN</td>\n",
       "      <td>United Kingdom</td>\n",
       "      <td>RED HANGING HEART T-LIGHT HOLDER</td>\n",
       "    </tr>\n",
       "    <tr>\n",
       "      <th>283</th>\n",
       "      <td>489463</td>\n",
       "      <td>71477</td>\n",
       "      <td>-240</td>\n",
       "      <td>12/01/09 10:52</td>\n",
       "      <td>0.0</td>\n",
       "      <td>NaN</td>\n",
       "      <td>United Kingdom</td>\n",
       "      <td>short</td>\n",
       "    </tr>\n",
       "    <tr>\n",
       "      <th>284</th>\n",
       "      <td>489467</td>\n",
       "      <td>85123A</td>\n",
       "      <td>-192</td>\n",
       "      <td>12/01/09 10:53</td>\n",
       "      <td>0.0</td>\n",
       "      <td>NaN</td>\n",
       "      <td>United Kingdom</td>\n",
       "      <td>WHITE HANGING HEART T-LIGHT HOLDER</td>\n",
       "    </tr>\n",
       "    <tr>\n",
       "      <th>470</th>\n",
       "      <td>489521</td>\n",
       "      <td>21646</td>\n",
       "      <td>-50</td>\n",
       "      <td>12/01/09 11:44</td>\n",
       "      <td>0.0</td>\n",
       "      <td>NaN</td>\n",
       "      <td>United Kingdom</td>\n",
       "      <td>NaN</td>\n",
       "    </tr>\n",
       "    <tr>\n",
       "      <th>3114</th>\n",
       "      <td>489655</td>\n",
       "      <td>20683</td>\n",
       "      <td>-44</td>\n",
       "      <td>12/01/09 05:26</td>\n",
       "      <td>0.0</td>\n",
       "      <td>NaN</td>\n",
       "      <td>United Kingdom</td>\n",
       "      <td>RAIN GIRL CHILDS UMBRELLA</td>\n",
       "    </tr>\n",
       "    <tr>\n",
       "      <th>...</th>\n",
       "      <td>...</td>\n",
       "      <td>...</td>\n",
       "      <td>...</td>\n",
       "      <td>...</td>\n",
       "      <td>...</td>\n",
       "      <td>...</td>\n",
       "      <td>...</td>\n",
       "      <td>...</td>\n",
       "    </tr>\n",
       "    <tr>\n",
       "      <th>1060794</th>\n",
       "      <td>581210</td>\n",
       "      <td>23395</td>\n",
       "      <td>-26</td>\n",
       "      <td>12/07/11 06:36</td>\n",
       "      <td>0.0</td>\n",
       "      <td>NaN</td>\n",
       "      <td>United Kingdom</td>\n",
       "      <td>BELLE JARDINIERE CUSHION COVER</td>\n",
       "    </tr>\n",
       "    <tr>\n",
       "      <th>1060796</th>\n",
       "      <td>581212</td>\n",
       "      <td>22578</td>\n",
       "      <td>-1050</td>\n",
       "      <td>12/07/11 06:38</td>\n",
       "      <td>0.0</td>\n",
       "      <td>NaN</td>\n",
       "      <td>United Kingdom</td>\n",
       "      <td>WOODEN STAR CHRISTMAS SCANDINAVIAN</td>\n",
       "    </tr>\n",
       "    <tr>\n",
       "      <th>1060797</th>\n",
       "      <td>581213</td>\n",
       "      <td>22576</td>\n",
       "      <td>-30</td>\n",
       "      <td>12/07/11 06:38</td>\n",
       "      <td>0.0</td>\n",
       "      <td>NaN</td>\n",
       "      <td>United Kingdom</td>\n",
       "      <td>SWALLOW WOODEN CHRISTMAS DECORATION</td>\n",
       "    </tr>\n",
       "    <tr>\n",
       "      <th>1062371</th>\n",
       "      <td>581226</td>\n",
       "      <td>23090</td>\n",
       "      <td>-338</td>\n",
       "      <td>12/08/11 09:56</td>\n",
       "      <td>0.0</td>\n",
       "      <td>NaN</td>\n",
       "      <td>United Kingdom</td>\n",
       "      <td>VINTAGE GLASS T-LIGHT HOLDER</td>\n",
       "    </tr>\n",
       "    <tr>\n",
       "      <th>1064386</th>\n",
       "      <td>581422</td>\n",
       "      <td>23169</td>\n",
       "      <td>-235</td>\n",
       "      <td>12/08/11 03:24</td>\n",
       "      <td>0.0</td>\n",
       "      <td>NaN</td>\n",
       "      <td>United Kingdom</td>\n",
       "      <td>CLASSIC GLASS SWEET JAR</td>\n",
       "    </tr>\n",
       "  </tbody>\n",
       "</table>\n",
       "<p>3462 rows × 8 columns</p>\n",
       "</div>"
      ],
      "text/plain": [
       "        Invoice StockCode  Quantity     InvoiceDate  Price  Customer ID  \\\n",
       "263      489464     21733       -96  12/01/09 10:52    0.0          NaN   \n",
       "283      489463     71477      -240  12/01/09 10:52    0.0          NaN   \n",
       "284      489467    85123A      -192  12/01/09 10:53    0.0          NaN   \n",
       "470      489521     21646       -50  12/01/09 11:44    0.0          NaN   \n",
       "3114     489655     20683       -44  12/01/09 05:26    0.0          NaN   \n",
       "...         ...       ...       ...             ...    ...          ...   \n",
       "1060794  581210     23395       -26  12/07/11 06:36    0.0          NaN   \n",
       "1060796  581212     22578     -1050  12/07/11 06:38    0.0          NaN   \n",
       "1060797  581213     22576       -30  12/07/11 06:38    0.0          NaN   \n",
       "1062371  581226     23090      -338  12/08/11 09:56    0.0          NaN   \n",
       "1064386  581422     23169      -235  12/08/11 03:24    0.0          NaN   \n",
       "\n",
       "                Country                          Description  \n",
       "263      United Kingdom     RED HANGING HEART T-LIGHT HOLDER  \n",
       "283      United Kingdom                                short  \n",
       "284      United Kingdom   WHITE HANGING HEART T-LIGHT HOLDER  \n",
       "470      United Kingdom                                  NaN  \n",
       "3114     United Kingdom            RAIN GIRL CHILDS UMBRELLA  \n",
       "...                 ...                                  ...  \n",
       "1060794  United Kingdom       BELLE JARDINIERE CUSHION COVER  \n",
       "1060796  United Kingdom   WOODEN STAR CHRISTMAS SCANDINAVIAN  \n",
       "1060797  United Kingdom  SWALLOW WOODEN CHRISTMAS DECORATION  \n",
       "1062371  United Kingdom         VINTAGE GLASS T-LIGHT HOLDER  \n",
       "1064386  United Kingdom              CLASSIC GLASS SWEET JAR  \n",
       "\n",
       "[3462 rows x 8 columns]"
      ]
     },
     "execution_count": 18,
     "metadata": {},
     "output_type": "execute_result"
    }
   ],
   "source": [
    "# lets see if all 22955 rows are a part of a cancellation invoice\n",
    "cancels = neg_df.Invoice.str.match(\"c\", case=False)\n",
    "neg_df[~cancels]"
   ]
  },
  {
   "cell_type": "markdown",
   "metadata": {},
   "source": [
    "Looks like a subset of the rows with a negative value in either quantity or price are not cancellations. The price appears to be 0 for some of these, which is interesting. I would've expected them to be discounts if our quantity was positive, and our price was negative. These could also be purchases made by a customer before inventory was available. Regardless let's get a closer look."
   ]
  },
  {
   "cell_type": "code",
   "execution_count": 19,
   "metadata": {
    "ExecuteTime": {
     "end_time": "2020-10-13T13:40:41.134947Z",
     "start_time": "2020-10-13T13:40:41.112578Z"
    }
   },
   "outputs": [
    {
     "data": {
      "text/html": [
       "<div>\n",
       "<style scoped>\n",
       "    .dataframe tbody tr th:only-of-type {\n",
       "        vertical-align: middle;\n",
       "    }\n",
       "\n",
       "    .dataframe tbody tr th {\n",
       "        vertical-align: top;\n",
       "    }\n",
       "\n",
       "    .dataframe thead th {\n",
       "        text-align: right;\n",
       "    }\n",
       "</style>\n",
       "<table border=\"1\" class=\"dataframe\">\n",
       "  <thead>\n",
       "    <tr style=\"text-align: right;\">\n",
       "      <th></th>\n",
       "      <th>Quantity</th>\n",
       "      <th>Price</th>\n",
       "      <th>Customer ID</th>\n",
       "    </tr>\n",
       "  </thead>\n",
       "  <tbody>\n",
       "    <tr>\n",
       "      <th>count</th>\n",
       "      <td>3462.000000</td>\n",
       "      <td>3462.000000</td>\n",
       "      <td>0.0</td>\n",
       "    </tr>\n",
       "    <tr>\n",
       "      <th>mean</th>\n",
       "      <td>-165.534373</td>\n",
       "      <td>-45.833663</td>\n",
       "      <td>NaN</td>\n",
       "    </tr>\n",
       "    <tr>\n",
       "      <th>std</th>\n",
       "      <td>672.651944</td>\n",
       "      <td>1377.140628</td>\n",
       "      <td>NaN</td>\n",
       "    </tr>\n",
       "    <tr>\n",
       "      <th>min</th>\n",
       "      <td>-9600.000000</td>\n",
       "      <td>-53594.360000</td>\n",
       "      <td>NaN</td>\n",
       "    </tr>\n",
       "    <tr>\n",
       "      <th>25%</th>\n",
       "      <td>-81.750000</td>\n",
       "      <td>0.000000</td>\n",
       "      <td>NaN</td>\n",
       "    </tr>\n",
       "    <tr>\n",
       "      <th>50%</th>\n",
       "      <td>-26.000000</td>\n",
       "      <td>0.000000</td>\n",
       "      <td>NaN</td>\n",
       "    </tr>\n",
       "    <tr>\n",
       "      <th>75%</th>\n",
       "      <td>-8.000000</td>\n",
       "      <td>0.000000</td>\n",
       "      <td>NaN</td>\n",
       "    </tr>\n",
       "    <tr>\n",
       "      <th>max</th>\n",
       "      <td>1.000000</td>\n",
       "      <td>0.000000</td>\n",
       "      <td>NaN</td>\n",
       "    </tr>\n",
       "  </tbody>\n",
       "</table>\n",
       "</div>"
      ],
      "text/plain": [
       "          Quantity         Price  Customer ID\n",
       "count  3462.000000   3462.000000          0.0\n",
       "mean   -165.534373    -45.833663          NaN\n",
       "std     672.651944   1377.140628          NaN\n",
       "min   -9600.000000 -53594.360000          NaN\n",
       "25%     -81.750000      0.000000          NaN\n",
       "50%     -26.000000      0.000000          NaN\n",
       "75%      -8.000000      0.000000          NaN\n",
       "max       1.000000      0.000000          NaN"
      ]
     },
     "execution_count": 19,
     "metadata": {},
     "output_type": "execute_result"
    }
   ],
   "source": [
    "# descriptive stats of neg_df non-cancels\n",
    "neg_df[~cancels].describe()"
   ]
  },
  {
   "cell_type": "markdown",
   "metadata": {},
   "source": [
    "None of these transactions have a customer ID attached to them either, our price is always negative, and the quantity never exceeds 1. Let's spot those transactions with a quantity of 1."
   ]
  },
  {
   "cell_type": "markdown",
   "metadata": {},
   "source": [
    "We'll move forward assuming the transactions with a negative quantity and 0 price are inventory corrections, most likely due to a return. We'll drop these since we aren't doing any inventory analysis at this time, and these transactions only effect inventory."
   ]
  },
  {
   "cell_type": "code",
   "execution_count": 20,
   "metadata": {
    "ExecuteTime": {
     "end_time": "2020-10-13T13:40:41.152378Z",
     "start_time": "2020-10-13T13:40:41.136539Z"
    }
   },
   "outputs": [
    {
     "data": {
      "text/html": [
       "<div>\n",
       "<style scoped>\n",
       "    .dataframe tbody tr th:only-of-type {\n",
       "        vertical-align: middle;\n",
       "    }\n",
       "\n",
       "    .dataframe tbody tr th {\n",
       "        vertical-align: top;\n",
       "    }\n",
       "\n",
       "    .dataframe thead th {\n",
       "        text-align: right;\n",
       "    }\n",
       "</style>\n",
       "<table border=\"1\" class=\"dataframe\">\n",
       "  <thead>\n",
       "    <tr style=\"text-align: right;\">\n",
       "      <th></th>\n",
       "      <th>Invoice</th>\n",
       "      <th>StockCode</th>\n",
       "      <th>Quantity</th>\n",
       "      <th>InvoiceDate</th>\n",
       "      <th>Price</th>\n",
       "      <th>Customer ID</th>\n",
       "      <th>Country</th>\n",
       "      <th>Description</th>\n",
       "    </tr>\n",
       "  </thead>\n",
       "  <tbody>\n",
       "    <tr>\n",
       "      <th>179403</th>\n",
       "      <td>A506401</td>\n",
       "      <td>B</td>\n",
       "      <td>1</td>\n",
       "      <td>04/29/10 01:36</td>\n",
       "      <td>-53594.36</td>\n",
       "      <td>NaN</td>\n",
       "      <td>United Kingdom</td>\n",
       "      <td>Adjust bad debt</td>\n",
       "    </tr>\n",
       "    <tr>\n",
       "      <th>276274</th>\n",
       "      <td>A516228</td>\n",
       "      <td>B</td>\n",
       "      <td>1</td>\n",
       "      <td>07/19/10 11:24</td>\n",
       "      <td>-44031.79</td>\n",
       "      <td>NaN</td>\n",
       "      <td>United Kingdom</td>\n",
       "      <td>Adjust bad debt</td>\n",
       "    </tr>\n",
       "    <tr>\n",
       "      <th>403472</th>\n",
       "      <td>A528059</td>\n",
       "      <td>B</td>\n",
       "      <td>1</td>\n",
       "      <td>10/20/10 12:04</td>\n",
       "      <td>-38925.87</td>\n",
       "      <td>NaN</td>\n",
       "      <td>United Kingdom</td>\n",
       "      <td>Adjust bad debt</td>\n",
       "    </tr>\n",
       "    <tr>\n",
       "      <th>825444</th>\n",
       "      <td>A563186</td>\n",
       "      <td>B</td>\n",
       "      <td>1</td>\n",
       "      <td>08/12/11 02:51</td>\n",
       "      <td>-11062.06</td>\n",
       "      <td>NaN</td>\n",
       "      <td>United Kingdom</td>\n",
       "      <td>Adjust bad debt</td>\n",
       "    </tr>\n",
       "    <tr>\n",
       "      <th>825445</th>\n",
       "      <td>A563187</td>\n",
       "      <td>B</td>\n",
       "      <td>1</td>\n",
       "      <td>08/12/11 02:52</td>\n",
       "      <td>-11062.06</td>\n",
       "      <td>NaN</td>\n",
       "      <td>United Kingdom</td>\n",
       "      <td>Adjust bad debt</td>\n",
       "    </tr>\n",
       "  </tbody>\n",
       "</table>\n",
       "</div>"
      ],
      "text/plain": [
       "        Invoice StockCode  Quantity     InvoiceDate     Price  Customer ID  \\\n",
       "179403  A506401         B         1  04/29/10 01:36 -53594.36          NaN   \n",
       "276274  A516228         B         1  07/19/10 11:24 -44031.79          NaN   \n",
       "403472  A528059         B         1  10/20/10 12:04 -38925.87          NaN   \n",
       "825444  A563186         B         1  08/12/11 02:51 -11062.06          NaN   \n",
       "825445  A563187         B         1  08/12/11 02:52 -11062.06          NaN   \n",
       "\n",
       "               Country      Description  \n",
       "179403  United Kingdom  Adjust bad debt  \n",
       "276274  United Kingdom  Adjust bad debt  \n",
       "403472  United Kingdom  Adjust bad debt  \n",
       "825444  United Kingdom  Adjust bad debt  \n",
       "825445  United Kingdom  Adjust bad debt  "
      ]
     },
     "execution_count": 20,
     "metadata": {},
     "output_type": "execute_result"
    }
   ],
   "source": [
    "# transactions with a quantity of 1\n",
    "neg_df[neg_df.Quantity ==1]"
   ]
  },
  {
   "cell_type": "markdown",
   "metadata": {},
   "source": [
    "[Bad Debts](https://help-sage50.na.sage.com/en-ca/core/2019/Content/Customers_Sales/CustomerPayments/AboutBadDebts.htm): The amount not paid when a customer fails to pay all or part of what is owed. A bad debt is a cost of selling on credit and is considered an expense."
   ]
  },
  {
   "cell_type": "markdown",
   "metadata": {},
   "source": [
    "It looks like there was a duplicate entry for a bad debt transaction, 825444 & 825445, as they both are the same except a minute apart, We'll keep it in though, since there is no other indication it could be an error other than it appears to be the same with a minute offset."
   ]
  },
  {
   "cell_type": "markdown",
   "metadata": {},
   "source": [
    "Previously we said we'd drop the rows with a missing Customer ID, but it looks like we'll have to fix that, as there is obviously some values that reduce the total revenue grossed. To fix this we'll group by invoice, and find the total for each invoice, then we'll join our original dataset to get our Invoice Date, Country and Customer ID."
   ]
  },
  {
   "cell_type": "code",
   "execution_count": 21,
   "metadata": {
    "ExecuteTime": {
     "end_time": "2020-10-13T13:40:41.540177Z",
     "start_time": "2020-10-13T13:40:41.154606Z"
    }
   },
   "outputs": [
    {
     "data": {
      "text/plain": [
       "invoice_\n",
       "489434     505.30\n",
       "489435     145.80\n",
       "489436     630.33\n",
       "489437     310.75\n",
       "489438    2286.24\n",
       "           ...   \n",
       "581583     124.60\n",
       "581584     140.64\n",
       "581585     329.05\n",
       "581586     339.20\n",
       "581587     267.45\n",
       "Name: total, Length: 53628, dtype: float64"
      ]
     },
     "execution_count": 21,
     "metadata": {},
     "output_type": "execute_result"
    }
   ],
   "source": [
    "# groupby invoice and get total sum\n",
    "df[\"total\"] = df.Quantity * df.Price\n",
    "df[\"invoice_\"] = df.Invoice.map(lambda s: s[1:] if s[0] in \"AC\" else s).astype(\"int\")\n",
    "i_totals = df.groupby(\"invoice_\").sum()[\"total\"]\n",
    "i_totals"
   ]
  },
  {
   "cell_type": "code",
   "execution_count": 22,
   "metadata": {
    "ExecuteTime": {
     "end_time": "2020-10-13T13:40:42.920364Z",
     "start_time": "2020-10-13T13:40:41.543522Z"
    }
   },
   "outputs": [
    {
     "data": {
      "text/html": [
       "<div>\n",
       "<style scoped>\n",
       "    .dataframe tbody tr th:only-of-type {\n",
       "        vertical-align: middle;\n",
       "    }\n",
       "\n",
       "    .dataframe tbody tr th {\n",
       "        vertical-align: top;\n",
       "    }\n",
       "\n",
       "    .dataframe thead th {\n",
       "        text-align: right;\n",
       "    }\n",
       "</style>\n",
       "<table border=\"1\" class=\"dataframe\">\n",
       "  <thead>\n",
       "    <tr style=\"text-align: right;\">\n",
       "      <th></th>\n",
       "      <th>invoice_num</th>\n",
       "      <th>total</th>\n",
       "      <th>invoice_name</th>\n",
       "      <th>invoice_date</th>\n",
       "      <th>customer_id</th>\n",
       "      <th>country</th>\n",
       "    </tr>\n",
       "  </thead>\n",
       "  <tbody>\n",
       "    <tr>\n",
       "      <th>0</th>\n",
       "      <td>489434</td>\n",
       "      <td>505.30</td>\n",
       "      <td>489434</td>\n",
       "      <td>12/01/09 07:45</td>\n",
       "      <td>13085.0</td>\n",
       "      <td>United Kingdom</td>\n",
       "    </tr>\n",
       "    <tr>\n",
       "      <th>8</th>\n",
       "      <td>489435</td>\n",
       "      <td>145.80</td>\n",
       "      <td>489435</td>\n",
       "      <td>12/01/09 07:46</td>\n",
       "      <td>13085.0</td>\n",
       "      <td>United Kingdom</td>\n",
       "    </tr>\n",
       "    <tr>\n",
       "      <th>12</th>\n",
       "      <td>489436</td>\n",
       "      <td>630.33</td>\n",
       "      <td>489436</td>\n",
       "      <td>12/01/09 09:06</td>\n",
       "      <td>13078.0</td>\n",
       "      <td>United Kingdom</td>\n",
       "    </tr>\n",
       "    <tr>\n",
       "      <th>31</th>\n",
       "      <td>489437</td>\n",
       "      <td>310.75</td>\n",
       "      <td>489437</td>\n",
       "      <td>12/01/09 09:08</td>\n",
       "      <td>15362.0</td>\n",
       "      <td>United Kingdom</td>\n",
       "    </tr>\n",
       "    <tr>\n",
       "      <th>54</th>\n",
       "      <td>489438</td>\n",
       "      <td>2286.24</td>\n",
       "      <td>489438</td>\n",
       "      <td>12/01/09 09:24</td>\n",
       "      <td>18102.0</td>\n",
       "      <td>United Kingdom</td>\n",
       "    </tr>\n",
       "    <tr>\n",
       "      <th>...</th>\n",
       "      <td>...</td>\n",
       "      <td>...</td>\n",
       "      <td>...</td>\n",
       "      <td>...</td>\n",
       "      <td>...</td>\n",
       "      <td>...</td>\n",
       "    </tr>\n",
       "    <tr>\n",
       "      <th>1067326</th>\n",
       "      <td>581583</td>\n",
       "      <td>124.60</td>\n",
       "      <td>581583</td>\n",
       "      <td>12/09/11 12:23</td>\n",
       "      <td>13777.0</td>\n",
       "      <td>United Kingdom</td>\n",
       "    </tr>\n",
       "    <tr>\n",
       "      <th>1067328</th>\n",
       "      <td>581584</td>\n",
       "      <td>140.64</td>\n",
       "      <td>581584</td>\n",
       "      <td>12/09/11 12:25</td>\n",
       "      <td>13777.0</td>\n",
       "      <td>United Kingdom</td>\n",
       "    </tr>\n",
       "    <tr>\n",
       "      <th>1067330</th>\n",
       "      <td>581585</td>\n",
       "      <td>329.05</td>\n",
       "      <td>581585</td>\n",
       "      <td>12/09/11 12:31</td>\n",
       "      <td>15804.0</td>\n",
       "      <td>United Kingdom</td>\n",
       "    </tr>\n",
       "    <tr>\n",
       "      <th>1067351</th>\n",
       "      <td>581586</td>\n",
       "      <td>339.20</td>\n",
       "      <td>581586</td>\n",
       "      <td>12/09/11 12:49</td>\n",
       "      <td>13113.0</td>\n",
       "      <td>United Kingdom</td>\n",
       "    </tr>\n",
       "    <tr>\n",
       "      <th>1067355</th>\n",
       "      <td>581587</td>\n",
       "      <td>267.45</td>\n",
       "      <td>581587</td>\n",
       "      <td>12/09/11 12:50</td>\n",
       "      <td>12680.0</td>\n",
       "      <td>France</td>\n",
       "    </tr>\n",
       "  </tbody>\n",
       "</table>\n",
       "<p>53628 rows × 6 columns</p>\n",
       "</div>"
      ],
      "text/plain": [
       "         invoice_num    total invoice_name    invoice_date  customer_id  \\\n",
       "0             489434   505.30       489434  12/01/09 07:45      13085.0   \n",
       "8             489435   145.80       489435  12/01/09 07:46      13085.0   \n",
       "12            489436   630.33       489436  12/01/09 09:06      13078.0   \n",
       "31            489437   310.75       489437  12/01/09 09:08      15362.0   \n",
       "54            489438  2286.24       489438  12/01/09 09:24      18102.0   \n",
       "...              ...      ...          ...             ...          ...   \n",
       "1067326       581583   124.60       581583  12/09/11 12:23      13777.0   \n",
       "1067328       581584   140.64       581584  12/09/11 12:25      13777.0   \n",
       "1067330       581585   329.05       581585  12/09/11 12:31      15804.0   \n",
       "1067351       581586   339.20       581586  12/09/11 12:49      13113.0   \n",
       "1067355       581587   267.45       581587  12/09/11 12:50      12680.0   \n",
       "\n",
       "                country  \n",
       "0        United Kingdom  \n",
       "8        United Kingdom  \n",
       "12       United Kingdom  \n",
       "31       United Kingdom  \n",
       "54       United Kingdom  \n",
       "...                 ...  \n",
       "1067326  United Kingdom  \n",
       "1067328  United Kingdom  \n",
       "1067330  United Kingdom  \n",
       "1067351  United Kingdom  \n",
       "1067355          France  \n",
       "\n",
       "[53628 rows x 6 columns]"
      ]
     },
     "execution_count": 22,
     "metadata": {},
     "output_type": "execute_result"
    }
   ],
   "source": [
    "# merge the two datasets\n",
    "data = pd.merge(i_totals, df.sort_values(\"InvoiceDate\"), how=\"left\", left_on=\"invoice_\", right_on=\"invoice_\")\n",
    "data = data.drop_duplicates(subset=[\"invoice_\"])\n",
    "data = data[[\"invoice_\", \"total_x\", \"Invoice\", \"InvoiceDate\", \"Customer ID\", \"Country\"]]\n",
    "data.columns = [\"invoice_num\", \"total\", \"invoice_name\", \"invoice_date\", \"customer_id\", \"country\"]\n",
    "data"
   ]
  },
  {
   "cell_type": "code",
   "execution_count": 23,
   "metadata": {
    "ExecuteTime": {
     "end_time": "2020-10-13T13:40:43.201544Z",
     "start_time": "2020-10-13T13:40:42.922043Z"
    }
   },
   "outputs": [],
   "source": [
    "# save our data\n",
    "data.to_csv(\"../data/interim/data.csv\")"
   ]
  },
  {
   "cell_type": "markdown",
   "metadata": {},
   "source": [
    "Looks like our interim data is all cleaned and ready to continue in the pipeline, we'll next do some EDA, and any additional reshaping before we do our modeling."
   ]
  }
 ],
 "metadata": {
  "kernelspec": {
   "display_name": "Python 3",
   "language": "python",
   "name": "python3"
  },
  "language_info": {
   "codemirror_mode": {
    "name": "ipython",
    "version": 3
   },
   "file_extension": ".py",
   "mimetype": "text/x-python",
   "name": "python",
   "nbconvert_exporter": "python",
   "pygments_lexer": "ipython3",
   "version": "3.7.9"
  },
  "toc": {
   "base_numbering": 1,
   "nav_menu": {},
   "number_sections": true,
   "sideBar": true,
   "skip_h1_title": false,
   "title_cell": "Table of Contents",
   "title_sidebar": "Contents",
   "toc_cell": false,
   "toc_position": {},
   "toc_section_display": true,
   "toc_window_display": false
  }
 },
 "nbformat": 4,
 "nbformat_minor": 4
}
